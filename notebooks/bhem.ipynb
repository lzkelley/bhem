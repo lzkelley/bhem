{
 "cells": [
  {
   "cell_type": "markdown",
   "metadata": {
    "heading_collapsed": true
   },
   "source": [
    "# Initialization"
   ]
  },
  {
   "cell_type": "code",
   "execution_count": null,
   "metadata": {
    "ExecuteTime": {
     "end_time": "2018-03-28T13:52:08.734289Z",
     "start_time": "2018-03-28T13:52:07.494065Z"
    },
    "hidden": true
   },
   "outputs": [],
   "source": [
    "# %load init.ipy\n",
    "%reload_ext autoreload\n",
    "%autoreload 2\n",
    "\n",
    "import os, sys\n",
    "\n",
    "import numpy as np\n",
    "import scipy as sp\n",
    "import scipy.integrate\n",
    "import matplotlib.pyplot as plt\n",
    "import matplotlib as mpl\n",
    "\n",
    "CWD = os.path.abspath(os.path.curdir)\n",
    "print(\"CWD: '{}'\".format(CWD))\n",
    "\n",
    "ODIR = os.path.join(CWD, \"output\", \"\")\n",
    "if not os.path.exists(ODIR):\n",
    "    os.makedirs(ODIR)\n",
    "    print(\"Created output directory: '{}'\".format(ODIR))\n",
    "\n",
    "par_dir = os.path.join(CWD, os.path.pardir)\n",
    "if par_dir not in sys.path:\n",
    "    sys.path.append(par_dir)\n",
    "    print(\"Added parent directory: '{}'\".format(par_dir))\n",
    "\n",
    "import bhem\n",
    "import bhem.basics\n",
    "import bhem.utils\n",
    "import bhem.disks\n",
    "import bhem.radiation\n",
    "import bhem.spectra\n",
    "from bhem.constants import MSOL, H_PLNK, K_BLTZ, SPLC, MPRT, MELC, QELC\n",
    "\n",
    "np.seterr(over='ignore');\n",
    "\n",
    "# Plotting settings\n",
    "mpl.rc('font', **{'family': 'serif', 'sans-serif': ['Times']})\n",
    "mpl.rc('lines', solid_capstyle='round')\n",
    "mpl.rc('mathtext', fontset='cm')\n",
    "plt.rcParams.update({'grid.alpha': 0.5})\n",
    "\n",
    "FS_TITLE = 20\n",
    "FS_LABEL = 16\n",
    "\n",
    "plt.rcParams.update({'axes.titlesize': FS_TITLE})\n",
    "plt.rcParams.update({'axes.labelsize': FS_LABEL})\n",
    "plt.rcParams.update({'xtick.labelsize': FS_LABEL})\n",
    "plt.rcParams.update({'ytick.labelsize': FS_LABEL})\n"
   ]
  },
  {
   "cell_type": "code",
   "execution_count": null,
   "metadata": {
    "ExecuteTime": {
     "end_time": "2018-03-28T13:53:09.750599Z",
     "start_time": "2018-03-28T13:53:09.725979Z"
    },
    "hidden": true
   },
   "outputs": [],
   "source": [
    "freqs = np.logspace(5, 25, 100)"
   ]
  },
  {
   "cell_type": "markdown",
   "metadata": {},
   "source": [
    "# Thin vs. ADAF"
   ]
  },
  {
   "cell_type": "code",
   "execution_count": null,
   "metadata": {
    "ExecuteTime": {
     "end_time": "2018-03-28T13:53:12.313503Z",
     "start_time": "2018-03-28T13:53:10.814908Z"
    }
   },
   "outputs": [],
   "source": [
    "_MASS = 1e9 * MSOL\n",
    "\n",
    "fig, ax = plt.subplots(figsize=[8, 5])\n",
    "ax.set(xscale='log', xlabel='Frequency [Hz]', xlim=[1e5, 1e22],\n",
    "       yscale='log', ylabel='$\\\\nu \\, F_\\\\nu [\\mathrm{erg \\, s}^{-1}]$')\n",
    "ax.grid(True, which='major', axis='both', c='0.5', alpha=0.5)\n",
    "\n",
    "# tw = ax.twiny()\n",
    "\n",
    "fedds = np.logspace(-6, 0, 7)[::-1]\n",
    "\n",
    "cmap = mpl.cm.get_cmap('gist_heat_r')\n",
    "colors = [cmap(xx) for xx in np.linspace(0.1, 0.9, fedds.size)]\n",
    "ymax = 0.0\n",
    "\n",
    "for ii, fe in enumerate(fedds):\n",
    "    label = '${:+.1f}$'.format(np.log10(fe))\n",
    "    cc = colors[ii]\n",
    "    kw = dict(color=cc, lw=2.0, alpha=0.8, label=label)\n",
    "\n",
    "    if fe < 1e-2:\n",
    "        _adaf = bhem.disks.ADAF(_MASS, 100, fedd=fe)\n",
    "        _spec = bhem.spectra.Mahadevan96(_adaf, freqs)\n",
    "        lum = freqs*_spec.spectrum\n",
    "        \n",
    "        ax.plot(freqs, lum, **kw)\n",
    "    else:\n",
    "        _thin = bhem.disks.Thin(_MASS, 100, fedd=fe)\n",
    "        bb_lum = _thin.blackbody_spectral_luminosity(freqs)\n",
    "        lum = freqs*bb_lum\n",
    "        ax.plot(freqs, lum, **kw)\n",
    "    \n",
    "    ymax = np.maximum(lum.max(), ymax)\n",
    "    \n",
    "ax.set_ylim([1e30, 3*ymax])\n",
    "ax.text(0.98, 0.98, \"$M = {:.1e} \\,\\, M_\\odot$\".format(_MASS/MSOL), transform=ax.transAxes,\n",
    "         ha='right', va='top')\n",
    "    \n",
    "for nn, band in bhem.constants.BANDS.items():\n",
    "    ax.axvline(band.freq, color=band.color, lw=1.0, alpha=0.5)\n",
    "\n",
    "ax.legend(title=\"$\\log(\\dot{M}/\\dot{M}_\\mathrm{edd})$\", fontsize=12)\n",
    "plt.show()\n",
    "\n",
    "fname = 'spectra_thin-adaf_mdot_2'\n",
    "fname = os.path.join(ODIR, fname)\n",
    "fig.savefig(fname + '.pdf')\n",
    "fig.savefig(fname + '.png')\n",
    "print(\"Saved to '{}'\".format(fname))"
   ]
  },
  {
   "cell_type": "code",
   "execution_count": null,
   "metadata": {
    "ExecuteTime": {
     "end_time": "2018-03-28T13:53:19.323742Z",
     "start_time": "2018-03-28T13:53:16.744120Z"
    }
   },
   "outputs": [],
   "source": [
    "_MASS = 1e9 * MSOL\n",
    "\n",
    "fig, axes = plt.subplots(figsize=[12, 5], ncols=2)\n",
    "plt.subplots_adjust(wspace=0.55, left=0.08, right=0.92, top=0.96)\n",
    "\n",
    "for ax in axes:\n",
    "    ax.set(xscale='log', yscale='log')\n",
    "    ax.grid(True, which='major', axis='both', c='0.5', alpha=0.5)\n",
    "\n",
    "\n",
    "ax = axes[0]\n",
    "ax.set(xlim=[1e5, 1e22], xlabel='Frequency [Hz]', \n",
    "       ylabel='$\\\\nu \\, F_\\\\nu [\\mathrm{erg \\,\\, s}^{-1}]$')\n",
    "tw = ax.twinx(); tw.set(yscale='log', ylabel='Cumulative Luminosity $[\\mathrm{erg \\,\\, s}^{-1}]$')\n",
    "\n",
    "fedds = np.logspace(-6, 0, 7)[::-1]\n",
    "lums = np.zeros_like(fedds)\n",
    "\n",
    "cmap = mpl.cm.get_cmap('gist_heat_r')\n",
    "colors = [cmap(xx) for xx in np.linspace(0.1, 0.9, fedds.size)]\n",
    "ymax = 0.0\n",
    "\n",
    "for ii, fe in enumerate(fedds):\n",
    "    label = '${:+.1f}$'.format(np.log10(fe))\n",
    "    cc = colors[ii]\n",
    "    kw = dict(color=cc, lw=2.0, label=label)\n",
    "\n",
    "    if fe < 1e-2:\n",
    "        _adaf = bhem.disks.ADAF(_MASS, 100, fedd=fe)\n",
    "        _spec = bhem.spectra.Mahadevan96(_adaf, freqs)\n",
    "        lum = _spec.spectrum\n",
    "    else:\n",
    "        _thin = bhem.disks.Thin(_MASS, 100, fedd=fe)\n",
    "        bb_lum = _thin.blackbody_spectral_luminosity(freqs)\n",
    "        lum = bb_lum\n",
    "    \n",
    "    ax.plot(freqs, freqs*lum, ls='--', alpha=0.5, **kw)\n",
    "    ymax = np.maximum(np.max(freqs*lum), ymax)\n",
    "    \n",
    "    lum_mid = bhem.utils.log_midpoints(lum)\n",
    "    freqs_mid = bhem.utils.log_midpoints(freqs)\n",
    "    df = np.diff(freqs)\n",
    "    cumlum = np.cumsum(df * lum_mid)\n",
    "    lums[ii] = cumlum[-1]\n",
    "    tw.plot(freqs_mid, cumlum, alpha=0.8, **kw)    \n",
    "    \n",
    "tw.set_ylim([1e32, 1e50])\n",
    "ax.set_ylim([1e30, 3*ymax])\n",
    "ax.text(0.02, 0.98, \"$M = {:.1e} \\,\\, M_\\odot$\".format(_MASS/MSOL), transform=ax.transAxes,\n",
    "         ha='left', va='top')\n",
    "    \n",
    "for nn, band in bhem.constants.BANDS.items():\n",
    "    ax.axvline(band.freq, color=band.color, lw=1.0, alpha=0.5)\n",
    "\n",
    "ax.legend(title=\"$\\log(\\dot{M}/\\dot{M}_\\mathrm{edd})$\", fontsize=12, loc='center left')\n",
    "\n",
    "\n",
    "ax = axes[1]\n",
    "ax.set(xlabel='Eddington Fraction', \n",
    "       ylabel='$L_\\mathrm{bol} [\\mathrm{erg \\,\\, s}^{-1}]$')\n",
    "tw = ax.twinx(); tw.set(yscale='log', ylabel='Efficiency')\n",
    "\n",
    "mdot_edd = bhem.basics.eddington_accretion(_MASS)\n",
    "effs = lums/(mdot_edd * fedds * SPLC**2)\n",
    "\n",
    "ax.plot(fedds, lums, 'r-', alpha=0.8)\n",
    "tw.plot(fedds, effs, 'r--', alpha=0.8)\n",
    "tw.plot(fedds, np.minimum(10*fedds, 0.1), color='0.5', ls='--', alpha=0.5)\n",
    "\n",
    "plt.show()\n",
    "\n",
    "fname = 'lum-eff_thin-adaf_mdot'\n",
    "fname = os.path.join(ODIR, fname)\n",
    "fig.savefig(fname + '.pdf')\n",
    "fig.savefig(fname + '.png')\n",
    "print(\"Saved to '{}'\".format(fname))"
   ]
  }
 ],
 "metadata": {
  "kernelspec": {
   "display_name": "Python [default]",
   "language": "python",
   "name": "python3"
  },
  "language_info": {
   "codemirror_mode": {
    "name": "ipython",
    "version": 3
   },
   "file_extension": ".py",
   "mimetype": "text/x-python",
   "name": "python",
   "nbconvert_exporter": "python",
   "pygments_lexer": "ipython3",
   "version": "3.5.4"
  },
  "toc": {
   "nav_menu": {},
   "number_sections": true,
   "sideBar": true,
   "skip_h1_title": false,
   "toc_cell": false,
   "toc_position": {},
   "toc_section_display": "block",
   "toc_window_display": true
  }
 },
 "nbformat": 4,
 "nbformat_minor": 2
}
