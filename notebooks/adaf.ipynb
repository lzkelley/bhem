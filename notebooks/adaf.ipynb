{
 "cells": [
  {
   "cell_type": "code",
   "execution_count": null,
   "metadata": {
    "ExecuteTime": {
     "end_time": "2018-03-28T13:55:01.122880Z",
     "start_time": "2018-03-28T13:55:00.682624Z"
    }
   },
   "outputs": [],
   "source": [
    "# %load init.ipy\n",
    "%reload_ext autoreload\n",
    "%autoreload 2\n",
    "\n",
    "import os, sys\n",
    "\n",
    "import numpy as np\n",
    "import scipy as sp\n",
    "import scipy.integrate\n",
    "import matplotlib.pyplot as plt\n",
    "import matplotlib as mpl\n",
    "\n",
    "CWD = os.path.abspath(os.path.curdir)\n",
    "print(\"CWD: '{}'\".format(CWD))\n",
    "\n",
    "ODIR = os.path.join(CWD, \"output\", \"\")\n",
    "if not os.path.exists(ODIR):\n",
    "    os.makedirs(ODIR)\n",
    "    print(\"Created output directory: '{}'\".format(ODIR))\n",
    "\n",
    "par_dir = os.path.join(CWD, os.path.pardir)\n",
    "if par_dir not in sys.path:\n",
    "    sys.path.append(par_dir)\n",
    "    print(\"Added parent directory: '{}'\".format(par_dir))\n",
    "\n",
    "import bhem\n",
    "import bhem.basics\n",
    "import bhem.utils\n",
    "import bhem.disks\n",
    "import bhem.radiation\n",
    "import bhem.spectra\n",
    "from bhem.constants import MSOL, H_PLNK, K_BLTZ, SPLC, MPRT, MELC, QELC\n",
    "\n",
    "np.seterr(over='ignore');\n",
    "\n",
    "# Plotting settings\n",
    "mpl.rc('font', **{'family': 'serif', 'sans-serif': ['Times']})\n",
    "mpl.rc('lines', solid_capstyle='round')\n",
    "mpl.rc('mathtext', fontset='cm')\n",
    "plt.rcParams.update({'grid.alpha': 0.5})\n",
    "\n",
    "FS_TITLE = 20\n",
    "FS_LABEL = 16\n",
    "\n",
    "plt.rcParams.update({'axes.titlesize': FS_TITLE})\n",
    "plt.rcParams.update({'axes.labelsize': FS_LABEL})\n",
    "plt.rcParams.update({'xtick.labelsize': FS_LABEL})\n",
    "plt.rcParams.update({'ytick.labelsize': FS_LABEL})\n"
   ]
  },
  {
   "cell_type": "markdown",
   "metadata": {},
   "source": [
    "# Parameters"
   ]
  },
  {
   "cell_type": "code",
   "execution_count": null,
   "metadata": {
    "ExecuteTime": {
     "end_time": "2018-03-28T13:55:01.149055Z",
     "start_time": "2018-03-28T13:55:01.124882Z"
    }
   },
   "outputs": [],
   "source": [
    "MASS = 1.0e2 * MSOL\n",
    "# FEDD = 3.0e-5\n",
    "FEDD = 2.9e-5\n",
    "NRAD = 100\n",
    "\n",
    "adaf = bhem.disks.ADAF(MASS, NRAD, fedd=FEDD)\n",
    "mdot, _ = bhem.utils.mdot_fedd(MASS, None, FEDD)\n",
    "print(adaf)"
   ]
  },
  {
   "cell_type": "markdown",
   "metadata": {
    "heading_collapsed": true
   },
   "source": [
    "# Profiles"
   ]
  },
  {
   "cell_type": "markdown",
   "metadata": {
    "hidden": true
   },
   "source": [
    "## Primitives"
   ]
  },
  {
   "cell_type": "code",
   "execution_count": null,
   "metadata": {
    "ExecuteTime": {
     "end_time": "2018-03-28T13:55:01.180208Z",
     "start_time": "2018-03-28T13:55:01.151246Z"
    },
    "hidden": true
   },
   "outputs": [],
   "source": [
    "# Assume temperature of the electrons is negligible compared to ions\n",
    "#    then via NY95b Eq. 2.16:\n",
    "temp_ion = 6.66e12 * adaf.beta_gp * adaf._c3 / adaf.rs\n",
    "\n",
    "# For now, define electron temperature as fixed factor lower than ion\n",
    "# temp_elc = np.ones_like(temp_ion) * np.min(temp_ion)\n",
    "# temp_elc = 1e10 * np.ones_like(temp_ion)\n",
    "# temp_elc = np.minimum(temp_elc, temp_ion/2.0)"
   ]
  },
  {
   "cell_type": "code",
   "execution_count": null,
   "metadata": {
    "ExecuteTime": {
     "end_time": "2018-03-28T13:55:02.355397Z",
     "start_time": "2018-03-28T13:55:01.182193Z"
    },
    "hidden": true
   },
   "outputs": [],
   "source": [
    "fig, ax = plt.subplots(figsize=[10, 5])\n",
    "\n",
    "ax.set(xscale='log', xlabel='Radius [$R_s$]', yscale='log', ylabel='Density')\n",
    "ax.plot(adaf.rs, adaf.dens, 'k-', lw=2.0, alpha=0.8)\n",
    "\n",
    "tw = ax.twinx(); tw.set(yscale='log'); tw.set_ylabel('Velocity', color='blue')\n",
    "tw.plot(adaf.rs, adaf.vel_ff, 'b-')\n",
    "tw.plot(adaf.rs, adaf.vel_snd, 'b--')\n",
    "tw.plot(adaf.rs, np.fabs(adaf.vel_rad), 'b:', lw=2.0)\n",
    "\n",
    "side = 'right'\n",
    "tw = ax.twinx(); tw.set(yscale='log')\n",
    "tw.set_ylabel('Temp', color='red')\n",
    "tw.yaxis.set_label_position(side)\n",
    "tw.yaxis.set_ticks_position(side)\n",
    "tw.spines[side].set_position(('axes', 1.2))\n",
    "# tw.plot(adaf.rs, temp_ion*K_BLTZ/(MPRT*SPLC*SPLC), 'r-')\n",
    "# tw.plot(adaf.rs, temp_elc*K_BLTZ/(MELC*SPLC*SPLC), 'r--')\n",
    "tw.plot(adaf.rs, temp_ion, 'r-')\n",
    "# tw.plot(adaf.rs, temp_elc, 'r--')\n",
    "\n",
    "plt.show()"
   ]
  },
  {
   "cell_type": "markdown",
   "metadata": {
    "heading_collapsed": true,
    "hidden": true
   },
   "source": [
    "## Heating / Cooling"
   ]
  },
  {
   "cell_type": "code",
   "execution_count": null,
   "metadata": {
    "ExecuteTime": {
     "end_time": "2018-03-28T13:55:02.381761Z",
     "start_time": "2018-03-28T13:55:02.357471Z"
    },
    "hidden": true,
    "scrolled": false
   },
   "outputs": [],
   "source": [
    "# ne = bhem.utils.ndens_elc(adaf.dens, adaf.frac_hmass)\n",
    "# ni = bhem.utils.ndens_ion(adaf.dens, adaf.frac_hmass)\n",
    "\n",
    "# heat_ie = bhem.radiation.heating_coulomb_ie(ne, ni, temp_elc, temp_ion)\n",
    "\n",
    "# cool_brem_ei = bhem.radiation.cooling_brems_ei(ne, temp_elc)\n",
    "# cool_brem_ee = bhem.radiation.cooling_brems_ee(ne, temp_elc)"
   ]
  },
  {
   "cell_type": "code",
   "execution_count": null,
   "metadata": {
    "ExecuteTime": {
     "end_time": "2018-03-28T13:55:02.409617Z",
     "start_time": "2018-03-28T13:55:02.383850Z"
    },
    "hidden": true
   },
   "outputs": [],
   "source": [
    "# fig, ax = plt.subplots(figsize=[10, 5])\n",
    "# ax.set(xscale='log', xlabel='Radius [$R_s$]', yscale='log', ylim=[1e-12, 1e3])\n",
    "# ax.set_ylabel('Heating', color='red')\n",
    "# tw = ax.twinx(); tw.set(yscale='log')\n",
    "# tw.set_ylabel('Cooling', color='blue')\n",
    "\n",
    "# ax.plot(adaf.rs, adaf.visc_diss, 'r-', lw=2.0, alpha=0.8)\n",
    "# ax.plot(adaf.rs, heat_ie, 'r--', lw=2.0, alpha=0.8)\n",
    "\n",
    "# tw.plot(adaf.rs, cool_brem_ei, 'b-.', lw=2.0, alpha=0.8)\n",
    "# tw.plot(adaf.rs, cool_brem_ee, 'b:', lw=2.0, alpha=0.8)\n",
    "\n",
    "# plt.show()"
   ]
  },
  {
   "cell_type": "markdown",
   "metadata": {},
   "source": [
    "# [Mahadevan 1996](https://arxiv.org/abs/astro-ph/9609107)"
   ]
  },
  {
   "cell_type": "markdown",
   "metadata": {},
   "source": [
    "This treatment solves for the heating/cooling based on quantities integrated over the whole region of the disk.  Specifically this means that the electron temperature ($T_e$) becomes some \"effective\" electron-temperature for the heating/cooling processes over the whole advection regime."
   ]
  },
  {
   "cell_type": "code",
   "execution_count": null,
   "metadata": {
    "ExecuteTime": {
     "end_time": "2018-03-28T13:55:02.450634Z",
     "start_time": "2018-03-28T13:55:02.413175Z"
    }
   },
   "outputs": [],
   "source": [
    "freqs = np.logspace(5, 25, 100)\n",
    "m96 = bhem.spectra.Mahadevan96(adaf, freqs)"
   ]
  },
  {
   "cell_type": "code",
   "execution_count": null,
   "metadata": {
    "ExecuteTime": {
     "end_time": "2018-03-28T13:55:03.093214Z",
     "start_time": "2018-03-28T13:55:02.453003Z"
    }
   },
   "outputs": [],
   "source": [
    "temps = np.logspace(6, 12, 21)\n",
    "qv = []; qs = []; qb = []; qc = []\n",
    "for te in temps:\n",
    "    _qv, _qs, _qb, _qc = m96._heat_cool(te)\n",
    "    qv.append(_qv); qs.append(_qs); qb.append(_qb); qc.append(_qc);\n",
    "    \n",
    "qv = np.array(qv); qs = np.array(qs); qb = np.array(qb); qc = np.array(qc)\n",
    "fig, ax = plt.subplots(figsize=[10, 5])\n",
    "ax.set(xscale='log', yscale='log')\n",
    "\n",
    "ax.plot(temps, qv, 'k-', alpha=0.7, lw=2.0)\n",
    "ax.plot(temps, qs, 'r-', alpha=0.7, lw=2.0)\n",
    "ax.plot(temps, qb, 'g-', alpha=0.7, lw=2.0)\n",
    "ax.plot(temps, qc, 'b-', alpha=0.7, lw=2.0)\n",
    "ax.plot(temps, qs+qb+qc, 'k--', alpha=0.7, lw=2.0)\n",
    "\n",
    "ylim = np.array(ax.get_ylim())\n",
    "ylim[1] = np.minimum(ylim[1], 1e80)\n",
    "ax.set_ylim(ylim)\n",
    "\n",
    "plt.show()"
   ]
  },
  {
   "cell_type": "code",
   "execution_count": null,
   "metadata": {
    "ExecuteTime": {
     "end_time": "2018-03-28T13:55:03.479100Z",
     "start_time": "2018-03-28T13:55:03.095521Z"
    }
   },
   "outputs": [],
   "source": [
    "lv_synch = m96.spectrum_synch\n",
    "lv_brems = m96.spectrum_brems\n",
    "lv_compt = m96.spectrum_compt\n",
    "\n",
    "lv = lv_synch + lv_brems + lv_compt\n",
    "\n",
    "fig, ax = plt.subplots(figsize=[12, 5])\n",
    "ax.set(xscale='log', yscale='log', ylim=[1e26, 1e44])\n",
    "\n",
    "def _plot(xx, yy, color='k', alpha=0.75, **kwargs):\n",
    "    idx = (yy > 0.0)\n",
    "    ax.plot(xx[idx], yy[idx], color=color, alpha=alpha, **kwargs)\n",
    "    return\n",
    "\n",
    "_plot(freqs, freqs*lv_synch, color='r')\n",
    "_plot(freqs, freqs*lv_brems, color='g')\n",
    "_plot(freqs, freqs*lv_compt, color='b')\n",
    "_plot(freqs, freqs*lv, ls='--', lw=2.0)\n",
    "\n",
    "plt.show()"
   ]
  },
  {
   "cell_type": "markdown",
   "metadata": {},
   "source": [
    "## Total Luminosity And Efficiency"
   ]
  },
  {
   "cell_type": "code",
   "execution_count": null,
   "metadata": {
    "ExecuteTime": {
     "end_time": "2018-03-28T13:58:24.057042Z",
     "start_time": "2018-03-28T13:58:21.043922Z"
    }
   },
   "outputs": [],
   "source": [
    "_MASS = 1e9 * MSOL\n",
    "\n",
    "fig, axes = plt.subplots(figsize=[12, 5], ncols=2)\n",
    "plt.subplots_adjust(wspace=0.55, left=0.08, right=0.92, top=0.96)\n",
    "\n",
    "for ax in axes:\n",
    "    ax.set(xscale='log', yscale='log')\n",
    "    ax.grid(True, which='major', axis='both', c='0.5', alpha=0.5)\n",
    "\n",
    "\n",
    "ax = axes[0]\n",
    "ax.set(xlim=[1e5, 1e22], xlabel='Frequency [Hz]', \n",
    "       ylabel='$\\\\nu \\, F_\\\\nu [\\mathrm{erg \\,\\, s}^{-1}]$')\n",
    "tw = ax.twinx(); tw.set(yscale='log', ylabel='Cumulative Luminosity $[\\mathrm{erg \\,\\, s}^{-1}]$')\n",
    "\n",
    "fedds = np.logspace(-6, -2, 5)[::-1]\n",
    "lums = np.zeros_like(fedds)\n",
    "\n",
    "cmap = mpl.cm.get_cmap('gist_heat_r')\n",
    "colors = [cmap(xx) for xx in np.linspace(0.1, 0.9, fedds.size)]\n",
    "ymax = 0.0\n",
    "\n",
    "for ii, fe in enumerate(fedds):\n",
    "    label = '${:+.1f}$'.format(np.log10(fe))\n",
    "    cc = colors[ii]\n",
    "    kw = dict(color=cc, lw=2.0, label=label)\n",
    "\n",
    "    _adaf = bhem.disks.ADAF(_MASS, 100, fedd=fe)\n",
    "    _spec = bhem.spectra.Mahadevan96(_adaf, freqs)\n",
    "    lum = _spec.spectrum\n",
    "    \n",
    "    ax.plot(freqs, freqs*lum, ls='-', alpha=0.8, **kw)\n",
    "    ymax = np.maximum(np.max(freqs*lum), ymax)\n",
    "    \n",
    "    lum_mid = bhem.utils.log_midpoints(lum)\n",
    "    freqs_mid = bhem.utils.log_midpoints(freqs)\n",
    "    df = np.diff(freqs)\n",
    "    cumlum = np.cumsum(df * lum_mid)\n",
    "    lums[ii] = cumlum[-1]\n",
    "    tw.plot(freqs_mid, cumlum, alpha=0.5, ls='--', **kw)    \n",
    "    \n",
    "tw.set_ylim([1e32, 1e50])\n",
    "ax.set_ylim([1e30, 3*ymax])\n",
    "ax.text(0.02, 0.98, \"$M = {:.1e} \\,\\, M_\\odot$\".format(_MASS/MSOL), transform=ax.transAxes,\n",
    "         ha='left', va='top')\n",
    "    \n",
    "for nn, band in bhem.constants.BANDS.items():\n",
    "    ax.axvline(band.freq, color=band.color, lw=1.0, alpha=0.5)\n",
    "\n",
    "ax.legend(title=\"$\\log(\\dot{M}/\\dot{M}_\\mathrm{edd})$\", fontsize=12, loc='center left')\n",
    "\n",
    "\n",
    "ax = axes[1]\n",
    "ax.set(xlabel='Eddington Fraction', \n",
    "       ylabel='$L_\\mathrm{bol} [\\mathrm{erg \\,\\, s}^{-1}]$')\n",
    "tw = ax.twinx(); tw.set(yscale='log', ylabel='Efficiency')\n",
    "\n",
    "mdot_edd = bhem.basics.eddington_accretion(_MASS)\n",
    "effs = lums/(mdot_edd * fedds * SPLC**2)\n",
    "\n",
    "ax.plot(fedds, lums, 'r-', alpha=0.8)\n",
    "tw.plot(fedds, effs, 'r--', alpha=0.8)\n",
    "tw.plot(fedds, np.minimum(10*fedds, 0.1), color='0.5', ls='--', alpha=0.5)\n",
    "\n",
    "plt.show()\n",
    "\n",
    "fname = 'lum-eff_thin-adaf_mdot'\n",
    "fname = os.path.join(ODIR, fname)\n",
    "fig.savefig(fname + '.pdf')\n",
    "fig.savefig(fname + '.png')\n",
    "print(\"Saved to '{}'\".format(fname))"
   ]
  }
 ],
 "metadata": {
  "kernelspec": {
   "display_name": "Python [default]",
   "language": "python",
   "name": "python3"
  },
  "language_info": {
   "codemirror_mode": {
    "name": "ipython",
    "version": 3
   },
   "file_extension": ".py",
   "mimetype": "text/x-python",
   "name": "python",
   "nbconvert_exporter": "python",
   "pygments_lexer": "ipython3",
   "version": "3.5.4"
  },
  "toc": {
   "nav_menu": {},
   "number_sections": true,
   "sideBar": true,
   "skip_h1_title": false,
   "toc_cell": false,
   "toc_position": {
    "height": "920px",
    "left": "0px",
    "right": "975.781px",
    "top": "110px",
    "width": "126px"
   },
   "toc_section_display": "block",
   "toc_window_display": true
  }
 },
 "nbformat": 4,
 "nbformat_minor": 2
}
