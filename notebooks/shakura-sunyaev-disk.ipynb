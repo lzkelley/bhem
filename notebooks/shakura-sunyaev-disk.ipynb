{
 "cells": [
  {
   "cell_type": "code",
   "execution_count": null,
   "metadata": {
    "ExecuteTime": {
     "end_time": "2018-02-25T18:22:32.210712Z",
     "start_time": "2018-02-25T18:22:31.213307Z"
    }
   },
   "outputs": [],
   "source": [
    "# %load init.ipy\n",
    "%reload_ext autoreload\n",
    "%autoreload 2\n",
    "\n",
    "import os, sys\n",
    "\n",
    "import numpy as np\n",
    "import scipy as sp\n",
    "import scipy.integrate\n",
    "import matplotlib.pyplot as plt\n",
    "import matplotlib as mpl\n",
    "\n",
    "CWD = os.path.abspath(os.path.curdir)\n",
    "print(\"CWD: '{}'\".format(CWD))\n",
    "\n",
    "ODIR = os.path.join(CWD, \"output\", \"\")\n",
    "if not os.path.exists(ODIR):\n",
    "    os.makedirs(ODIR)\n",
    "    print(\"Created output directory: '{}'\".format(ODIR))\n",
    "\n",
    "par_dir = os.path.join(CWD, os.path.pardir)\n",
    "if par_dir not in sys.path:\n",
    "    sys.path.append(par_dir)\n",
    "    print(\"Added parent directory: '{}'\".format(par_dir))\n",
    "\n",
    "import bhem\n",
    "import bhem.basics\n",
    "from bhem.constants import MSOL, H_PLNK, K_BLTZ, SPLC\n",
    "\n",
    "np.seterr(over='ignore');\n",
    "\n",
    "# Plotting settings\n",
    "mpl.rc('font', **{'family': 'serif', 'sans-serif': ['Times']})\n",
    "mpl.rc('lines', solid_capstyle='round')\n",
    "mpl.rc('mathtext', fontset='cm')\n",
    "plt.rcParams.update({'grid.alpha': 0.5})\n",
    "\n",
    "FS_TITLE = 20\n",
    "FS_LABEL = 16\n",
    "\n",
    "plt.rcParams.update({'axes.titlesize': FS_TITLE})\n",
    "plt.rcParams.update({'axes.labelsize': FS_LABEL})\n",
    "plt.rcParams.update({'xtick.labelsize': FS_LABEL})\n",
    "plt.rcParams.update({'ytick.labelsize': FS_LABEL})\n"
   ]
  },
  {
   "cell_type": "markdown",
   "metadata": {},
   "source": [
    "## Parameters"
   ]
  },
  {
   "cell_type": "code",
   "execution_count": null,
   "metadata": {
    "ExecuteTime": {
     "end_time": "2018-02-25T01:27:28.985039Z",
     "start_time": "2018-02-25T01:27:28.957983Z"
    }
   },
   "outputs": [],
   "source": [
    "MASS = 1e7 * MSOL\n",
    "FEDD = 0.1"
   ]
  },
  {
   "cell_type": "markdown",
   "metadata": {},
   "source": [
    "### Derived"
   ]
  },
  {
   "cell_type": "code",
   "execution_count": null,
   "metadata": {
    "ExecuteTime": {
     "end_time": "2018-02-25T01:27:29.019950Z",
     "start_time": "2018-02-25T01:27:28.987441Z"
    }
   },
   "outputs": [],
   "source": [
    "mdot = bhem.basics.eddington_accretion(MASS)\n",
    "rsch = bhem.basics.radius_schwarzschild(MASS)\n",
    "rads = np.logspace(np.log10(6), 4, 200) * rsch\n",
    "freqs = np.logspace(10, 18, 120)"
   ]
  },
  {
   "cell_type": "markdown",
   "metadata": {},
   "source": [
    "## Disk Primitives Profiles"
   ]
  },
  {
   "cell_type": "code",
   "execution_count": null,
   "metadata": {
    "ExecuteTime": {
     "end_time": "2018-02-25T01:27:29.051382Z",
     "start_time": "2018-02-25T01:27:29.022020Z"
    }
   },
   "outputs": [],
   "source": [
    "temp = bhem.basics.temperature_profile(MASS, mdot, rads)"
   ]
  },
  {
   "cell_type": "code",
   "execution_count": null,
   "metadata": {
    "ExecuteTime": {
     "end_time": "2018-02-25T01:27:29.794892Z",
     "start_time": "2018-02-25T01:27:29.053345Z"
    }
   },
   "outputs": [],
   "source": [
    "fig, ax = plt.subplots(figsize=[10, 5])\n",
    "ax.set(xscale='log', xlabel='Radius [$R_s$]', yscale='log', ylabel='Temperature [K]')\n",
    "\n",
    "ax.plot(rads/rsch, temp, 'r-', lw=2.0, alpha=0.8)\n",
    "plt.show()"
   ]
  },
  {
   "cell_type": "markdown",
   "metadata": {},
   "source": [
    "## Blackbody Spectrum"
   ]
  },
  {
   "cell_type": "code",
   "execution_count": null,
   "metadata": {
    "ExecuteTime": {
     "end_time": "2018-02-25T01:31:14.791087Z",
     "start_time": "2018-02-25T01:31:14.741179Z"
    }
   },
   "outputs": [],
   "source": [
    "# erg/s/Hz/cm^2/steradian\n",
    "bb_spec_rad = bhem.basics.blackbody_spectral_radiance(MASS, mdot, rads[:, np.newaxis], freqs[np.newaxis, :])"
   ]
  },
  {
   "cell_type": "code",
   "execution_count": null,
   "metadata": {
    "ExecuteTime": {
     "end_time": "2018-02-25T01:27:30.674507Z",
     "start_time": "2018-02-25T01:27:29.821556Z"
    }
   },
   "outputs": [],
   "source": [
    "xx, yy = np.meshgrid(rads, freqs)\n",
    "\n",
    "norm = mpl.colors.LogNorm(vmin=1e-10, vmax=np.max(bb_spec_rad))\n",
    "smap = mpl.cm.ScalarMappable(norm=norm, cmap='hot')\n",
    "smap.cmap.set_under('0.5')\n",
    "\n",
    "fig, axes = plt.subplots(figsize=[14, 6], ncols=2)\n",
    "for ax in axes:\n",
    "    ax.set(xscale='log', xlabel='Radius [$R_s$]', yscale='log', ylabel='Freq [Hz]')\n",
    "    for nn, band in bhem.constants.BANDS.items():\n",
    "        ax.axhline(band.freq, color=band.color, lw=2.0, alpha=0.5)\n",
    "\n",
    "pcm = axes[0].pcolormesh(xx/rsch, yy, bb_spec_rad.T, norm=norm, cmap=smap.cmap)\n",
    "plt.colorbar(pcm, ax=axes[0], orientation='horizontal')\n",
    "\n",
    "finds = (1e14 < freqs) & (freqs < 1e16)\n",
    "\n",
    "norm = mpl.colors.Normalize(0.0, np.max(bb_spec_rad[:, finds]))\n",
    "smap = mpl.cm.ScalarMappable(norm=norm, cmap='hot')\n",
    "pcm = axes[1].pcolormesh(xx[finds, :]/rsch, yy[finds, :], bb_spec_rad[:, finds].T, norm=norm, cmap=smap.cmap)\n",
    "plt.colorbar(pcm, ax=axes[1], orientation='horizontal')\n",
    "\n",
    "plt.show()"
   ]
  },
  {
   "cell_type": "code",
   "execution_count": null,
   "metadata": {
    "ExecuteTime": {
     "end_time": "2018-02-25T01:27:30.699762Z",
     "start_time": "2018-02-25T01:27:30.676544Z"
    }
   },
   "outputs": [],
   "source": [
    "annul = np.pi * (np.square(rads[1:]) - np.square(rads[:-1]))\n",
    "ave_spec = 0.5 * (bb_spec_rad[1:] + bb_spec_rad[:-1])\n",
    "bb_spec = 4.0*np.pi * np.sum(ave_spec * annul[:, np.newaxis], axis=0)"
   ]
  },
  {
   "cell_type": "code",
   "execution_count": null,
   "metadata": {
    "ExecuteTime": {
     "end_time": "2018-02-25T01:33:09.532266Z",
     "start_time": "2018-02-25T01:33:09.480269Z"
    }
   },
   "outputs": [],
   "source": [
    "bb_lum = bhem.basics.blackbody_spectral_luminosity(MASS, mdot, freqs)"
   ]
  },
  {
   "cell_type": "code",
   "execution_count": null,
   "metadata": {
    "ExecuteTime": {
     "end_time": "2018-02-25T01:30:20.486191Z",
     "start_time": "2018-02-25T01:30:19.855749Z"
    }
   },
   "outputs": [],
   "source": [
    "fig, ax = plt.subplots(figsize=[10, 5])\n",
    "ax.set(xscale='log', xlabel='Frequency [Hz]',\n",
    "       yscale='log', ylabel='Spectral Luminosity [erg/s/Hz]', ylim=[1e20, 1e30])\n",
    "\n",
    "ax.plot(freqs, bb_spec, 'b-', lw=2.0, alpha=0.6, ls='--')\n",
    "ax.plot(freqs, bb_lum, 'r-', lw=2.0, alpha=0.6)\n",
    "\n",
    "for nn, band in bhem.constants.BANDS.items():\n",
    "    ax.axvline(band.freq, color=band.color, lw=1.0, alpha=0.5)\n",
    "\n",
    "plt.show()"
   ]
  }
 ],
 "metadata": {
  "kernelspec": {
   "display_name": "Python [default]",
   "language": "python",
   "name": "python3"
  },
  "language_info": {
   "codemirror_mode": {
    "name": "ipython",
    "version": 3
   },
   "file_extension": ".py",
   "mimetype": "text/x-python",
   "name": "python",
   "nbconvert_exporter": "python",
   "pygments_lexer": "ipython3",
   "version": "3.5.4"
  },
  "toc": {
   "nav_menu": {},
   "number_sections": true,
   "sideBar": true,
   "skip_h1_title": false,
   "toc_cell": false,
   "toc_position": {},
   "toc_section_display": "block",
   "toc_window_display": true
  }
 },
 "nbformat": 4,
 "nbformat_minor": 2
}
