{
 "cells": [
  {
   "cell_type": "code",
   "execution_count": 2,
   "metadata": {
    "ExecuteTime": {
     "end_time": "2018-02-25T18:22:54.984580Z",
     "start_time": "2018-02-25T18:22:54.287378Z"
    }
   },
   "outputs": [
    {
     "name": "stdout",
     "output_type": "stream",
     "text": [
      "CWD: '/Users/lzkelley/Programs/bhem/notebooks'\n",
      "Added parent directory: '/Users/lzkelley/Programs/bhem/notebooks/..'\n"
     ]
    }
   ],
   "source": [
    "# %load init.ipy\n",
    "%reload_ext autoreload\n",
    "%autoreload 2\n",
    "\n",
    "import os, sys\n",
    "\n",
    "import numpy as np\n",
    "import scipy as sp\n",
    "import scipy.integrate\n",
    "import matplotlib.pyplot as plt\n",
    "import matplotlib as mpl\n",
    "\n",
    "CWD = os.path.abspath(os.path.curdir)\n",
    "print(\"CWD: '{}'\".format(CWD))\n",
    "\n",
    "ODIR = os.path.join(CWD, \"output\", \"\")\n",
    "if not os.path.exists(ODIR):\n",
    "    os.makedirs(ODIR)\n",
    "    print(\"Created output directory: '{}'\".format(ODIR))\n",
    "\n",
    "par_dir = os.path.join(CWD, os.path.pardir)\n",
    "if par_dir not in sys.path:\n",
    "    sys.path.append(par_dir)\n",
    "    print(\"Added parent directory: '{}'\".format(par_dir))\n",
    "\n",
    "import bhem\n",
    "import bhem.basics\n",
    "from bhem.constants import MSOL, H_PLNK, K_BLTZ, SPLC\n",
    "\n",
    "np.seterr(over='ignore');\n",
    "\n",
    "# Plotting settings\n",
    "mpl.rc('font', **{'family': 'serif', 'sans-serif': ['Times']})\n",
    "mpl.rc('lines', solid_capstyle='round')\n",
    "mpl.rc('mathtext', fontset='cm')\n",
    "plt.rcParams.update({'grid.alpha': 0.5})\n",
    "\n",
    "FS_TITLE = 20\n",
    "FS_LABEL = 16\n",
    "\n",
    "plt.rcParams.update({'axes.titlesize': FS_TITLE})\n",
    "plt.rcParams.update({'axes.labelsize': FS_LABEL})\n",
    "plt.rcParams.update({'xtick.labelsize': FS_LABEL})\n",
    "plt.rcParams.update({'ytick.labelsize': FS_LABEL})\n"
   ]
  }
 ],
 "metadata": {
  "kernelspec": {
   "display_name": "Python [default]",
   "language": "python",
   "name": "python3"
  },
  "language_info": {
   "codemirror_mode": {
    "name": "ipython",
    "version": 3
   },
   "file_extension": ".py",
   "mimetype": "text/x-python",
   "name": "python",
   "nbconvert_exporter": "python",
   "pygments_lexer": "ipython3",
   "version": "3.5.4"
  },
  "toc": {
   "nav_menu": {},
   "number_sections": true,
   "sideBar": true,
   "skip_h1_title": false,
   "toc_cell": false,
   "toc_position": {},
   "toc_section_display": "block",
   "toc_window_display": true
  }
 },
 "nbformat": 4,
 "nbformat_minor": 2
}
