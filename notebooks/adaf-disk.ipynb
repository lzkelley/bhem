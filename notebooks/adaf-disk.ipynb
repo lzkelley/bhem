{
 "cells": [
  {
   "cell_type": "code",
   "execution_count": null,
   "metadata": {
    "ExecuteTime": {
     "end_time": "2018-02-28T23:49:07.442440Z",
     "start_time": "2018-02-28T23:49:06.727141Z"
    }
   },
   "outputs": [],
   "source": [
    "# %load init.ipy\n",
    "%reload_ext autoreload\n",
    "%autoreload 2\n",
    "\n",
    "import os, sys\n",
    "\n",
    "import numpy as np\n",
    "import scipy as sp\n",
    "import scipy.integrate\n",
    "import matplotlib.pyplot as plt\n",
    "import matplotlib as mpl\n",
    "\n",
    "CWD = os.path.abspath(os.path.curdir)\n",
    "print(\"CWD: '{}'\".format(CWD))\n",
    "\n",
    "ODIR = os.path.join(CWD, \"output\", \"\")\n",
    "if not os.path.exists(ODIR):\n",
    "    os.makedirs(ODIR)\n",
    "    print(\"Created output directory: '{}'\".format(ODIR))\n",
    "\n",
    "par_dir = os.path.join(CWD, os.path.pardir)\n",
    "if par_dir not in sys.path:\n",
    "    sys.path.append(par_dir)\n",
    "    print(\"Added parent directory: '{}'\".format(par_dir))\n",
    "\n",
    "import bhem\n",
    "import bhem.basics\n",
    "import bhem.disks\n",
    "import bhem.radiation\n",
    "import bhem.spectra\n",
    "from bhem.constants import MSOL, H_PLNK, K_BLTZ, SPLC, MPRT, MELC, QELC\n",
    "\n",
    "np.seterr(over='ignore');\n",
    "\n",
    "# Plotting settings\n",
    "mpl.rc('font', **{'family': 'serif', 'sans-serif': ['Times']})\n",
    "mpl.rc('lines', solid_capstyle='round')\n",
    "mpl.rc('mathtext', fontset='cm')\n",
    "plt.rcParams.update({'grid.alpha': 0.5})\n",
    "\n",
    "FS_TITLE = 20\n",
    "FS_LABEL = 16\n",
    "\n",
    "plt.rcParams.update({'axes.titlesize': FS_TITLE})\n",
    "plt.rcParams.update({'axes.labelsize': FS_LABEL})\n",
    "plt.rcParams.update({'xtick.labelsize': FS_LABEL})\n",
    "plt.rcParams.update({'ytick.labelsize': FS_LABEL})\n"
   ]
  },
  {
   "cell_type": "markdown",
   "metadata": {},
   "source": [
    "# Parameters"
   ]
  },
  {
   "cell_type": "code",
   "execution_count": null,
   "metadata": {
    "ExecuteTime": {
     "end_time": "2018-02-28T23:49:16.429423Z",
     "start_time": "2018-02-28T23:49:16.396630Z"
    }
   },
   "outputs": [],
   "source": [
    "MASS = 1.0e9 * MSOL\n",
    "FEDD = 1.0e-8\n",
    "NRAD = 500\n",
    "\n",
    "adaf = bhem.disks.ADAF(MASS, NRAD, fedd=FEDD)\n",
    "print(adaf)"
   ]
  },
  {
   "cell_type": "code",
   "execution_count": null,
   "metadata": {
    "ExecuteTime": {
     "end_time": "2018-02-28T23:49:16.457943Z",
     "start_time": "2018-02-28T23:49:16.431956Z"
    }
   },
   "outputs": [],
   "source": [
    "mdot, _ = bhem.utils.mdot_fedd(MASS, None, FEDD)"
   ]
  },
  {
   "cell_type": "markdown",
   "metadata": {
    "heading_collapsed": true
   },
   "source": [
    "# Profiles"
   ]
  },
  {
   "cell_type": "markdown",
   "metadata": {
    "hidden": true
   },
   "source": [
    "## Primitives"
   ]
  },
  {
   "cell_type": "code",
   "execution_count": null,
   "metadata": {
    "ExecuteTime": {
     "end_time": "2018-02-28T23:49:16.492834Z",
     "start_time": "2018-02-28T23:49:16.460077Z"
    },
    "hidden": true
   },
   "outputs": [],
   "source": [
    "# Assume temperature of the electrons is negligible compared to ions\n",
    "#    then via NY95b Eq. 2.16:\n",
    "temp_ion = 6.66e12 * adaf.beta_gp * adaf._c3 / adaf.rs\n",
    "\n",
    "# For now, define electron temperature as fixed factor lower than ion\n",
    "# temp_elc = np.ones_like(temp_ion) * np.min(temp_ion)\n",
    "# temp_elc = 1e10 * np.ones_like(temp_ion)\n",
    "# temp_elc = np.minimum(temp_elc, temp_ion/2.0)"
   ]
  },
  {
   "cell_type": "code",
   "execution_count": null,
   "metadata": {
    "ExecuteTime": {
     "end_time": "2018-02-28T23:49:17.733554Z",
     "start_time": "2018-02-28T23:49:16.496605Z"
    },
    "hidden": true
   },
   "outputs": [],
   "source": [
    "fig, ax = plt.subplots(figsize=[10, 5])\n",
    "\n",
    "ax.set(xscale='log', xlabel='Radius [$R_s$]', yscale='log', ylabel='Density')\n",
    "ax.plot(adaf.rs, adaf.dens, 'k-', lw=2.0, alpha=0.8)\n",
    "\n",
    "tw = ax.twinx(); tw.set(yscale='log'); tw.set_ylabel('Velocity', color='blue')\n",
    "tw.plot(adaf.rs, adaf.vel_ff, 'b-')\n",
    "tw.plot(adaf.rs, adaf.vel_snd, 'b--')\n",
    "tw.plot(adaf.rs, np.fabs(adaf.vel_rad), 'b:', lw=2.0)\n",
    "\n",
    "side = 'right'\n",
    "tw = ax.twinx(); tw.set(yscale='log')\n",
    "tw.set_ylabel('Temp', color='red')\n",
    "tw.yaxis.set_label_position(side)\n",
    "tw.yaxis.set_ticks_position(side)\n",
    "tw.spines[side].set_position(('axes', 1.2))\n",
    "# tw.plot(adaf.rs, temp_ion*K_BLTZ/(MPRT*SPLC*SPLC), 'r-')\n",
    "# tw.plot(adaf.rs, temp_elc*K_BLTZ/(MELC*SPLC*SPLC), 'r--')\n",
    "tw.plot(adaf.rs, temp_ion, 'r-')\n",
    "# tw.plot(adaf.rs, temp_elc, 'r--')\n",
    "\n",
    "plt.show()"
   ]
  },
  {
   "cell_type": "markdown",
   "metadata": {
    "heading_collapsed": true,
    "hidden": true
   },
   "source": [
    "## Heating / Cooling"
   ]
  },
  {
   "cell_type": "code",
   "execution_count": null,
   "metadata": {
    "ExecuteTime": {
     "end_time": "2018-02-28T23:49:17.760272Z",
     "start_time": "2018-02-28T23:49:17.735666Z"
    },
    "hidden": true,
    "scrolled": false
   },
   "outputs": [],
   "source": [
    "# ne = bhem.utils.ndens_elc(adaf.dens, adaf.frac_hmass)\n",
    "# ni = bhem.utils.ndens_ion(adaf.dens, adaf.frac_hmass)\n",
    "\n",
    "# heat_ie = bhem.radiation.heating_coulomb_ie(ne, ni, temp_elc, temp_ion)\n",
    "\n",
    "# cool_brem_ei = bhem.radiation.cooling_brems_ei(ne, temp_elc)\n",
    "# cool_brem_ee = bhem.radiation.cooling_brems_ee(ne, temp_elc)"
   ]
  },
  {
   "cell_type": "code",
   "execution_count": null,
   "metadata": {
    "ExecuteTime": {
     "end_time": "2018-02-28T23:49:17.788219Z",
     "start_time": "2018-02-28T23:49:17.762598Z"
    },
    "hidden": true
   },
   "outputs": [],
   "source": [
    "# fig, ax = plt.subplots(figsize=[10, 5])\n",
    "# ax.set(xscale='log', xlabel='Radius [$R_s$]', yscale='log', ylim=[1e-12, 1e3])\n",
    "# ax.set_ylabel('Heating', color='red')\n",
    "# tw = ax.twinx(); tw.set(yscale='log')\n",
    "# tw.set_ylabel('Cooling', color='blue')\n",
    "\n",
    "# ax.plot(adaf.rs, adaf.visc_diss, 'r-', lw=2.0, alpha=0.8)\n",
    "# ax.plot(adaf.rs, heat_ie, 'r--', lw=2.0, alpha=0.8)\n",
    "\n",
    "# tw.plot(adaf.rs, cool_brem_ei, 'b-.', lw=2.0, alpha=0.8)\n",
    "# tw.plot(adaf.rs, cool_brem_ee, 'b:', lw=2.0, alpha=0.8)\n",
    "\n",
    "# plt.show()"
   ]
  },
  {
   "cell_type": "markdown",
   "metadata": {},
   "source": [
    "# [Mahadevan 1996](https://arxiv.org/abs/astro-ph/9609107)"
   ]
  },
  {
   "cell_type": "markdown",
   "metadata": {},
   "source": [
    "This treatment solves for the heating/cooling based on quantities integrated over the whole region of the disk.  Specifically this means that the electron temperature ($T_e$) becomes some \"effective\" electron-temperature for the heating/cooling processes over the whole advection regime."
   ]
  },
  {
   "cell_type": "code",
   "execution_count": null,
   "metadata": {
    "ExecuteTime": {
     "end_time": "2018-02-28T23:49:17.815788Z",
     "start_time": "2018-02-28T23:49:17.790728Z"
    }
   },
   "outputs": [],
   "source": [
    "freqs = np.logspace(5, 25, 100)\n",
    "m96 = bhem.spectra.Mahadevan96(adaf, freqs)"
   ]
  },
  {
   "cell_type": "code",
   "execution_count": null,
   "metadata": {
    "ExecuteTime": {
     "end_time": "2018-02-28T23:49:18.381760Z",
     "start_time": "2018-02-28T23:49:17.818118Z"
    }
   },
   "outputs": [],
   "source": [
    "temps = np.logspace(6, 12, 21)\n",
    "qv = []; qs = []; qb = []; qc = []\n",
    "for te in temps:\n",
    "    _qv, _qs, _qb, _qc = m96._heat_cool(te)\n",
    "    qv.append(_qv); qs.append(_qs); qb.append(_qb); qc.append(_qc);\n",
    "    \n",
    "qv = np.array(qv); qs = np.array(qs); qb = np.array(qb); qc = np.array(qc)\n",
    "fig, ax = plt.subplots(figsize=[10, 5])\n",
    "ax.set(xscale='log', yscale='log')\n",
    "\n",
    "ax.plot(temps, qv, 'k-', alpha=0.7, lw=2.0)\n",
    "ax.plot(temps, qs, 'r-', alpha=0.7, lw=2.0)\n",
    "ax.plot(temps, qb, 'g-', alpha=0.7, lw=2.0)\n",
    "ax.plot(temps, qc, 'b-', alpha=0.7, lw=2.0)\n",
    "ax.plot(temps, qs+qb+qc, 'k--', alpha=0.7, lw=2.0)\n",
    "\n",
    "plt.show()"
   ]
  },
  {
   "cell_type": "code",
   "execution_count": null,
   "metadata": {
    "ExecuteTime": {
     "end_time": "2018-02-28T23:49:18.862075Z",
     "start_time": "2018-02-28T23:49:18.384045Z"
    }
   },
   "outputs": [],
   "source": [
    "lv_synch = m96.spectrum_synch\n",
    "lv_brems = m96.spectrum_brems\n",
    "lv_compt = m96.spectrum_compt\n",
    "\n",
    "lv = lv_synch + lv_brems + lv_compt\n",
    "\n",
    "fig, ax = plt.subplots(figsize=[12, 5])\n",
    "ax.set(xscale='log', yscale='log', ylim=[1e26, 1e44])\n",
    "\n",
    "def _plot(xx, yy, color='k', alpha=0.75, **kwargs):\n",
    "    idx = (yy > 0.0)\n",
    "    ax.plot(xx[idx], yy[idx], color=color, alpha=alpha, **kwargs)\n",
    "    return\n",
    "\n",
    "_plot(freqs, freqs*lv_synch, color='r')\n",
    "_plot(freqs, freqs*lv_brems, color='g')\n",
    "_plot(freqs, freqs*lv_compt, color='b')\n",
    "_plot(freqs, freqs*lv, ls='--', lw=2.0)\n",
    "\n",
    "plt.show()"
   ]
  },
  {
   "cell_type": "code",
   "execution_count": null,
   "metadata": {
    "ExecuteTime": {
     "end_time": "2018-02-28T23:49:39.582916Z",
     "start_time": "2018-02-28T23:49:38.846478Z"
    }
   },
   "outputs": [],
   "source": [
    "_MASS = 1e9 * MSOL\n",
    "\n",
    "fig, ax = plt.subplots(figsize=[10, 5])\n",
    "ax.set(xscale='log', yscale='log', ylim=[1e30, 1e50])\n",
    "\n",
    "fedds = np.logspace(-7, -2.2, 7)\n",
    "for fe in fedds:\n",
    "    _adaf = bhem.disks.ADAF(_MASS, 100, fedd=fe)\n",
    "    _spec = bhem.spectra.Mahadevan96(_adaf, freqs)\n",
    "    \n",
    "    ll, = ax.plot(freqs, freqs*_spec.spectrum, lw=2.0, alpha=0.8, label='$f_e = {:.1f}$'.format(\n",
    "        np.log10(fe)))\n",
    "    col = ll.get_color()\n",
    "    \n",
    "    _thin = bhem.disks.Thin(_MASS, 100, fedd=fe)\n",
    "    bb_lum = _thin.blackbody_spectral_luminosity(freqs)\n",
    "    ax.plot(freqs, freqs*bb_lum, lw=2.0, alpha=0.8, color=col, ls='--')\n",
    "    \n",
    "for nn, band in bhem.constants.BANDS.items():\n",
    "    ax.axvline(band.freq, color=band.color, lw=1.0, alpha=0.5)\n",
    "\n",
    "plt.legend()\n",
    "plt.show()"
   ]
  }
 ],
 "metadata": {
  "kernelspec": {
   "display_name": "Python [default]",
   "language": "python",
   "name": "python3"
  },
  "language_info": {
   "codemirror_mode": {
    "name": "ipython",
    "version": 3
   },
   "file_extension": ".py",
   "mimetype": "text/x-python",
   "name": "python",
   "nbconvert_exporter": "python",
   "pygments_lexer": "ipython3",
   "version": "3.5.4"
  },
  "toc": {
   "nav_menu": {},
   "number_sections": true,
   "sideBar": true,
   "skip_h1_title": false,
   "toc_cell": false,
   "toc_position": {
    "height": "920px",
    "left": "0px",
    "right": "975.781px",
    "top": "110px",
    "width": "126px"
   },
   "toc_section_display": "block",
   "toc_window_display": true
  }
 },
 "nbformat": 4,
 "nbformat_minor": 2
}
