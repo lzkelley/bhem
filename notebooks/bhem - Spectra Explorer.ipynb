{
 "cells": [
  {
   "cell_type": "code",
   "execution_count": null,
   "metadata": {},
   "outputs": [],
   "source": []
  },
  {
   "cell_type": "code",
   "execution_count": null,
   "metadata": {
    "ExecuteTime": {
     "end_time": "2018-02-24T21:05:59.954465Z",
     "start_time": "2018-02-24T21:05:59.421837Z"
    }
   },
   "outputs": [],
   "source": [
    "import os, sys\n",
    "\n",
    "import numpy as np\n",
    "import matplotlib.pyplot as plt"
   ]
  },
  {
   "cell_type": "code",
   "execution_count": null,
   "metadata": {
    "ExecuteTime": {
     "end_time": "2018-02-24T21:07:52.307382Z",
     "start_time": "2018-02-24T21:07:52.292501Z"
    }
   },
   "outputs": [],
   "source": [
    "CWD = os.path.abspath(os.path.curdir)\n",
    "print(\"CWD: '{}'\".format(CWD))\n",
    "\n",
    "ODIR = os.path.join(CWD, \"output-notebook\", \"\")\n",
    "if not os.path.exists(ODIR):\n",
    "    os.makedirs(ODIR)\n",
    "    print(\"Created output directory: '{}'\".format(ODIR))\n",
    "\n",
    "par_dir = os.path.join(CWD, os.path.pardir)\n",
    "if par_dir not in sys.path:\n",
    "    sys.path.append(par_dir)\n",
    "    print(\"Added parent directory: '{}'\".format(par_dir))\n",
    "    \n",
    "import bhem\n"
   ]
  }
 ],
 "metadata": {
  "kernelspec": {
   "display_name": "Python [default]",
   "language": "python",
   "name": "python3"
  },
  "language_info": {
   "codemirror_mode": {
    "name": "ipython",
    "version": 3
   },
   "file_extension": ".py",
   "mimetype": "text/x-python",
   "name": "python",
   "nbconvert_exporter": "python",
   "pygments_lexer": "ipython3",
   "version": "3.5.4"
  },
  "toc": {
   "nav_menu": {},
   "number_sections": true,
   "sideBar": true,
   "skip_h1_title": false,
   "toc_cell": false,
   "toc_position": {},
   "toc_section_display": "block",
   "toc_window_display": true
  }
 },
 "nbformat": 4,
 "nbformat_minor": 2
}
