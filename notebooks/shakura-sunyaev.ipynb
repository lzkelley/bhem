{
 "cells": [
  {
   "cell_type": "markdown",
   "metadata": {},
   "source": [
    "# Initialization"
   ]
  },
  {
   "cell_type": "code",
   "execution_count": null,
   "metadata": {
    "ExecuteTime": {
     "end_time": "2018-03-29T21:21:25.103979Z",
     "start_time": "2018-03-29T21:21:24.902602Z"
    }
   },
   "outputs": [],
   "source": [
    "# %load init.ipy\n",
    "%reload_ext autoreload\n",
    "%autoreload 2\n",
    "\n",
    "import os, sys\n",
    "\n",
    "import numpy as np\n",
    "import scipy as sp\n",
    "import scipy.integrate\n",
    "import matplotlib.pyplot as plt\n",
    "import matplotlib as mpl\n",
    "\n",
    "CWD = os.path.abspath(os.path.curdir)\n",
    "print(\"CWD: '{}'\".format(CWD))\n",
    "\n",
    "ODIR = os.path.join(CWD, \"output\", \"\")\n",
    "if not os.path.exists(ODIR):\n",
    "    os.makedirs(ODIR)\n",
    "    print(\"Created output directory: '{}'\".format(ODIR))\n",
    "\n",
    "par_dir = os.path.join(CWD, os.path.pardir)\n",
    "if par_dir not in sys.path:\n",
    "    sys.path.append(par_dir)\n",
    "    print(\"Added parent directory: '{}'\".format(par_dir))\n",
    "\n",
    "import bhem\n",
    "import bhem.basics\n",
    "import bhem.utils\n",
    "import bhem.disks\n",
    "import bhem.radiation\n",
    "import bhem.spectra\n",
    "from bhem.constants import MSOL, H_PLNK, K_BLTZ, SPLC, MPRT, MELC, QELC, BANDS, SIGMA_SB, NWTG\n",
    "\n",
    "np.seterr(over='ignore');\n",
    "\n",
    "# Plotting settings\n",
    "mpl.rc('font', **{'family': 'serif', 'sans-serif': ['Times']})\n",
    "mpl.rc('lines', solid_capstyle='round')\n",
    "mpl.rc('mathtext', fontset='cm')\n",
    "plt.rcParams.update({'grid.alpha': 0.5})\n",
    "\n",
    "FS_TITLE = 20\n",
    "FS_LABEL = 16\n",
    "\n",
    "plt.rcParams.update({'axes.titlesize': FS_TITLE})\n",
    "plt.rcParams.update({'axes.labelsize': FS_LABEL})\n",
    "plt.rcParams.update({'xtick.labelsize': FS_LABEL})\n",
    "plt.rcParams.update({'ytick.labelsize': FS_LABEL})\n"
   ]
  },
  {
   "cell_type": "markdown",
   "metadata": {},
   "source": [
    "## Parameters"
   ]
  },
  {
   "cell_type": "code",
   "execution_count": null,
   "metadata": {
    "ExecuteTime": {
     "end_time": "2018-03-29T21:12:25.578815Z",
     "start_time": "2018-03-29T21:12:25.552338Z"
    }
   },
   "outputs": [],
   "source": [
    "MASS = 1e7 * MSOL\n",
    "FEDD = 0.1\n",
    "\n",
    "PATH_OUTPUT = os.path.join(ODIR, 'shakura-sunyaev', '')\n",
    "\n",
    "if not os.path.exists(PATH_OUTPUT):\n",
    "    os.makedirs(PATH_OUTPUT)"
   ]
  },
  {
   "cell_type": "code",
   "execution_count": null,
   "metadata": {
    "ExecuteTime": {
     "end_time": "2018-03-29T21:12:25.604731Z",
     "start_time": "2018-03-29T21:12:25.580871Z"
    }
   },
   "outputs": [],
   "source": [
    "thin = bhem.disks.Thin(MASS, fedd=FEDD)"
   ]
  },
  {
   "cell_type": "markdown",
   "metadata": {},
   "source": [
    "### Derived"
   ]
  },
  {
   "cell_type": "code",
   "execution_count": null,
   "metadata": {
    "ExecuteTime": {
     "end_time": "2018-03-29T21:12:25.635268Z",
     "start_time": "2018-03-29T21:12:25.606722Z"
    }
   },
   "outputs": [],
   "source": [
    "mdot = bhem.basics.eddington_accretion(MASS)\n",
    "rsch = bhem.basics.radius_schwarzschild(MASS)\n",
    "# rads = np.logspace(np.log10(6), 4, 200) * rsch\n",
    "rads = thin.rads\n",
    "freqs = np.logspace(10, 18, 120)"
   ]
  },
  {
   "cell_type": "markdown",
   "metadata": {},
   "source": [
    "# Disk Primitives Profiles"
   ]
  },
  {
   "cell_type": "code",
   "execution_count": null,
   "metadata": {
    "ExecuteTime": {
     "end_time": "2018-03-29T21:12:25.663191Z",
     "start_time": "2018-03-29T21:12:25.637506Z"
    }
   },
   "outputs": [],
   "source": [
    "# temp = bhem.basics.temperature_profile(MASS, mdot, rads)"
   ]
  },
  {
   "cell_type": "code",
   "execution_count": null,
   "metadata": {
    "ExecuteTime": {
     "end_time": "2018-03-29T21:21:52.728094Z",
     "start_time": "2018-03-29T21:21:52.611904Z"
    }
   },
   "outputs": [],
   "source": [
    "mu = 1.2\n",
    "pres_over_dens = (K_BLTZ * thin.temp / (mu * MPRT)) + (4*SIGMA_SB*thin.temp**4 / (3*SPLC) )\n",
    "hh = np.sqrt(pres_over_dens * 2 * (thin.rads**3) / (NWTG * thin.mass))"
   ]
  },
  {
   "cell_type": "code",
   "execution_count": null,
   "metadata": {
    "ExecuteTime": {
     "end_time": "2018-03-29T21:25:34.300462Z",
     "start_time": "2018-03-29T21:25:33.779379Z"
    }
   },
   "outputs": [],
   "source": [
    "fig, ax = plt.subplots(figsize=[6, 4])\n",
    "ax.set(xscale='log', yscale='log')\n",
    "\n",
    "ax.plot(thin.rads, hh/thin.rads)\n",
    "IND = 1/8\n",
    "norm = hh[0]/thin.rads[0]\n",
    "ax.plot(thin.rads, np.power(thin.rads/thin.rads[0], IND) * norm, 'k--')\n",
    "\n",
    "plt.show()"
   ]
  },
  {
   "cell_type": "code",
   "execution_count": null,
   "metadata": {
    "ExecuteTime": {
     "end_time": "2018-03-29T21:12:26.348437Z",
     "start_time": "2018-03-29T21:12:25.666081Z"
    }
   },
   "outputs": [],
   "source": [
    "fig, ax = plt.subplots(figsize=[10, 5])\n",
    "ax.set(xscale='log', xlabel='Radius [$R_s$]', yscale='log', ylabel='Temperature [K]')\n",
    "\n",
    "ax.plot(rads/rsch, thin.temp, 'r-', lw=2.0, alpha=0.8)\n",
    "plt.show()"
   ]
  },
  {
   "cell_type": "markdown",
   "metadata": {},
   "source": [
    "# Blackbody Spectrum"
   ]
  },
  {
   "cell_type": "code",
   "execution_count": null,
   "metadata": {
    "ExecuteTime": {
     "end_time": "2018-03-29T21:12:26.382860Z",
     "start_time": "2018-03-29T21:12:26.350837Z"
    }
   },
   "outputs": [],
   "source": [
    "# erg/s/Hz/cm^2/steradian\n",
    "# bb_spec_rad = bhem.basics.blackbody_spectral_radiance(MASS, mdot, rads[:, np.newaxis], freqs[np.newaxis, :])\n",
    "rr = rads[np.newaxis, :]\n",
    "ff = freqs[:, np.newaxis]\n",
    "bb_spec_rad = thin._blackbody_spectral_radiance(rr, ff)"
   ]
  },
  {
   "cell_type": "code",
   "execution_count": null,
   "metadata": {
    "ExecuteTime": {
     "end_time": "2018-03-29T21:12:27.147486Z",
     "start_time": "2018-03-29T21:12:26.385167Z"
    }
   },
   "outputs": [],
   "source": [
    "xx, yy = np.meshgrid(rr, ff)\n",
    "\n",
    "norm = mpl.colors.LogNorm(vmin=1e-10, vmax=np.max(bb_spec_rad))\n",
    "smap = mpl.cm.ScalarMappable(norm=norm, cmap='hot')\n",
    "smap.cmap.set_under('0.5')\n",
    "\n",
    "fig, axes = plt.subplots(figsize=[14, 6], ncols=2)\n",
    "for ax in axes:\n",
    "    ax.set(xscale='log', xlabel='Radius [$R_s$]', yscale='log', ylabel='Freq [Hz]')\n",
    "    for nn, band in bhem.constants.BANDS.items():\n",
    "        ax.axhline(band.freq, color=band.color, lw=2.0, alpha=0.5)\n",
    "\n",
    "pcm = axes[0].pcolormesh(xx/rsch, yy, bb_spec_rad, norm=norm, cmap=smap.cmap)\n",
    "plt.colorbar(pcm, ax=axes[0], orientation='horizontal')\n",
    "\n",
    "finds = (1e14 < freqs) & (freqs < 1e16)\n",
    "\n",
    "norm = mpl.colors.Normalize(0.0, np.max(bb_spec_rad[finds, :]))\n",
    "smap = mpl.cm.ScalarMappable(norm=norm, cmap='hot')\n",
    "pcm = axes[1].pcolormesh(xx[finds, :]/rsch, yy[finds, :], bb_spec_rad[finds, :], norm=norm, cmap=smap.cmap)\n",
    "plt.colorbar(pcm, ax=axes[1], orientation='horizontal')\n",
    "\n",
    "plt.show()"
   ]
  },
  {
   "cell_type": "code",
   "execution_count": null,
   "metadata": {
    "ExecuteTime": {
     "end_time": "2018-03-29T21:12:27.173569Z",
     "start_time": "2018-03-29T21:12:27.149765Z"
    }
   },
   "outputs": [],
   "source": [
    "# bb_lum = bhem.basics.blackbody_spectral_luminosity(MASS, mdot, freqs)\n",
    "bb_lum = thin.blackbody_spectral_luminosity(freqs)"
   ]
  },
  {
   "cell_type": "code",
   "execution_count": null,
   "metadata": {
    "ExecuteTime": {
     "end_time": "2018-03-29T21:12:27.887833Z",
     "start_time": "2018-03-29T21:12:27.175439Z"
    }
   },
   "outputs": [],
   "source": [
    "fig, ax = plt.subplots(figsize=[10, 5])\n",
    "ax.set(xscale='log', xlabel='Frequency [Hz]',\n",
    "       yscale='log', ylabel='Spectral Luminosity [erg/s/Hz]', ylim=[1e20, 1e30])\n",
    "\n",
    "ax.plot(freqs, bb_lum, 'r-', lw=2.0, alpha=0.6)\n",
    "\n",
    "for nn, band in bhem.constants.BANDS.items():\n",
    "    ax.axvline(band.freq, color=band.color, lw=1.0, alpha=0.5)\n",
    "\n",
    "plt.show()"
   ]
  },
  {
   "cell_type": "markdown",
   "metadata": {},
   "source": [
    "# Varying Eddington Ratios : Spectra and Efficiencies"
   ]
  },
  {
   "cell_type": "code",
   "execution_count": null,
   "metadata": {
    "ExecuteTime": {
     "end_time": "2018-03-29T21:12:28.968775Z",
     "start_time": "2018-03-29T21:12:27.890050Z"
    }
   },
   "outputs": [],
   "source": [
    "_MASS = 1e9 * MSOL\n",
    "\n",
    "fig, axes = plt.subplots(figsize=[12, 5], ncols=2)\n",
    "plt.subplots_adjust(wspace=0.55, left=0.08, right=0.92, top=0.96)\n",
    "\n",
    "for ax in axes:\n",
    "    ax.set(xscale='log', yscale='log')\n",
    "    ax.grid(True, which='major', axis='both', c='0.5', alpha=0.5)\n",
    "\n",
    "\n",
    "ax = axes[0]\n",
    "ax.set(xlabel='Frequency [Hz]', # xlim=[1e5, 1e22], \n",
    "       ylabel='$\\\\nu \\, F_\\\\nu [\\mathrm{erg \\,\\, s}^{-1}]$')\n",
    "tw = ax.twinx(); tw.set(yscale='log', ylabel='Cumulative Luminosity $[\\mathrm{erg \\,\\, s}^{-1}]$')\n",
    "\n",
    "fedds = np.logspace(-6, 0, 7)[::-1]\n",
    "lums = np.zeros_like(fedds)\n",
    "\n",
    "cmap = mpl.cm.get_cmap('gist_heat_r')\n",
    "colors = [cmap(xx) for xx in np.linspace(0.1, 0.9, fedds.size)]\n",
    "ymax = 0.0\n",
    "\n",
    "for ii, fe in enumerate(fedds):\n",
    "    label = '${:+.1f}$'.format(np.log10(fe))\n",
    "    cc = colors[ii]\n",
    "    kw = dict(color=cc, lw=2.0, label=label)\n",
    "\n",
    "    _thin = bhem.disks.Thin(_MASS, 100, fedd=fe)\n",
    "    bb_lum = _thin.blackbody_spectral_luminosity(freqs)\n",
    "    lum = bb_lum\n",
    "    \n",
    "    ax.plot(freqs, freqs*lum, ls='--', alpha=0.5, **kw)\n",
    "    ymax = np.maximum(np.max(freqs*lum), ymax)\n",
    "    \n",
    "    lum_mid = bhem.utils.log_midpoints(lum)\n",
    "    freqs_mid = bhem.utils.log_midpoints(freqs)\n",
    "    df = np.diff(freqs)\n",
    "    cumlum = np.cumsum(df * lum_mid)\n",
    "    lums[ii] = cumlum[-1]\n",
    "    tw.plot(freqs_mid, cumlum, alpha=0.8, **kw)    \n",
    "    \n",
    "tw.set_ylim([1e32, 1e50])\n",
    "ax.set_ylim([1e30, 3*ymax])\n",
    "ax.text(0.02, 0.98, \"$M = {:.1e} \\,\\, M_\\odot$\".format(_MASS/MSOL), transform=ax.transAxes,\n",
    "         ha='left', va='top')\n",
    "    \n",
    "for nn, band in bhem.constants.BANDS.items():\n",
    "    ax.axvline(band.freq, color=band.color, lw=1.0, alpha=0.5)\n",
    "\n",
    "ax.legend(title=\"$\\log(\\dot{M}/\\dot{M}_\\mathrm{edd})$\", fontsize=12, loc='center left')\n",
    "\n",
    "\n",
    "ax = axes[1]\n",
    "ax.set(xlabel='Eddington Fraction', \n",
    "       ylabel='$L_\\mathrm{bol} [\\mathrm{erg \\,\\, s}^{-1}]$')\n",
    "tw = ax.twinx(); tw.set(yscale='log', ylabel='Efficiency')\n",
    "\n",
    "mdot_edd = bhem.basics.eddington_accretion(_MASS)\n",
    "effs = lums/(mdot_edd * fedds * SPLC**2)\n",
    "\n",
    "ax.plot(fedds, lums, 'r-', alpha=0.8)\n",
    "tw.plot(fedds, effs, 'r--', alpha=0.8)\n",
    "tw.plot(fedds, np.minimum(10*fedds, 0.1), color='0.5', ls='--', alpha=0.5)\n",
    "\n",
    "plt.show()\n",
    "\n",
    "fname = 'lum-eff_thin_mdot'\n",
    "fname = os.path.join(PATH_OUTPUT, fname)\n",
    "fig.savefig(fname + '.pdf')\n",
    "fig.savefig(fname + '.png')\n",
    "print(\"Saved to '{}'\".format(fname))"
   ]
  },
  {
   "cell_type": "markdown",
   "metadata": {},
   "source": [
    "# Disk Truncation"
   ]
  },
  {
   "cell_type": "code",
   "execution_count": null,
   "metadata": {
    "ExecuteTime": {
     "end_time": "2018-03-29T21:12:28.969667Z",
     "start_time": "2018-03-29T21:12:24.752Z"
    }
   },
   "outputs": [],
   "source": [
    "_MASS = 1e6 * MSOL\n",
    "_FEDD = 1e-1\n",
    "VAR_LABEL = \"$\\log(R_\\mathrm{max}/R_s)$\"\n",
    "BAND = \"v\"\n",
    "NRAD = 100\n",
    "\n",
    "fig, axes = plt.subplots(figsize=[12, 5], ncols=2)\n",
    "plt.subplots_adjust(wspace=0.55, left=0.08, right=0.92, top=0.96)\n",
    "\n",
    "for ax in axes:\n",
    "    ax.set(xscale='log', yscale='log')\n",
    "    ax.grid(True, which='major', axis='both', c='0.5', alpha=0.5)\n",
    "\n",
    "\n",
    "ax = axes[0]\n",
    "ax.set(xlabel='Frequency [Hz]', # xlim=[1e5, 1e22], \n",
    "       ylabel='$\\\\nu \\, F_\\\\nu [\\mathrm{erg \\,\\, s}^{-1}]$')\n",
    "tw = ax.twinx(); tw.set(yscale='log', ylabel='Cumulative Luminosity $[\\mathrm{erg \\,\\, s}^{-1}]$')\n",
    "\n",
    "# fedds = np.logspace(-6, 0, 7)[::-1]\n",
    "rad_max = np.logspace(1, 5, 9)\n",
    "lums = np.zeros_like(rad_max)\n",
    "lums_spec = np.zeros_like(rad_max)\n",
    "\n",
    "cmap = mpl.cm.get_cmap('gist_heat_r')\n",
    "colors = [cmap(xx) for xx in np.linspace(0.1, 0.9, rad_max.size)]\n",
    "ymax = 0.0\n",
    "\n",
    "for ii, rm in enumerate(rad_max):\n",
    "    label = '${:.1f}$'.format(np.log10(rm))\n",
    "    cc = colors[ii]\n",
    "    kw = dict(color=cc, lw=2.0, label=label)\n",
    "\n",
    "    _thin = bhem.disks.Thin(_MASS, fedd=_FEDD, rmax=rm, nrad=NRAD)\n",
    "    bb_lum = _thin.blackbody_spectral_luminosity(freqs)\n",
    "    lum = bb_lum\n",
    "    \n",
    "    ax.plot(freqs, freqs*lum, ls='--', alpha=0.5, **kw)\n",
    "    ymax = np.maximum(np.max(freqs*lum), ymax)\n",
    "    \n",
    "    _slum = bhem.utils.log_interp1d(freqs, lum*freqs)(BANDS[BAND].freq)\n",
    "    lums_spec[ii] = _slum\n",
    "    \n",
    "    lum_mid = bhem.utils.log_midpoints(lum)\n",
    "    freqs_mid = bhem.utils.log_midpoints(freqs)\n",
    "    df = np.diff(freqs)\n",
    "    cumlum = np.cumsum(df * lum_mid)\n",
    "    lums[ii] = cumlum[-1]\n",
    "    tw.plot(freqs_mid, cumlum, alpha=0.8, **kw)    \n",
    "    \n",
    "tw.set_ylim([1e32, 1e50])\n",
    "ax.set_ylim([1e30, 3*ymax])\n",
    "ax.text(0.02, 0.98, \"$M = {:.1e} \\,\\, M_\\odot$\".format(_MASS/MSOL), transform=ax.transAxes,\n",
    "         ha='left', va='top')\n",
    "    \n",
    "for nn, band in bhem.constants.BANDS.items():\n",
    "    ax.axvline(band.freq, color=band.color, lw=1.0, alpha=0.5)\n",
    "\n",
    "ax.legend(title=VAR_LABEL, fontsize=12, loc='center left')\n",
    "\n",
    "\n",
    "ax = axes[1]\n",
    "ax.set(xlabel=VAR_LABEL, \n",
    "       ylabel='$L_\\mathrm{bol} [\\mathrm{erg \\,\\, s}^{-1}]$')\n",
    "tw = ax.twinx(); tw.set(yscale='log', ylabel='Efficiency')\n",
    "\n",
    "mdot_edd = bhem.basics.eddington_accretion(_MASS)\n",
    "effs = lums/(mdot_edd * _FEDD * SPLC**2)\n",
    "\n",
    "ax.plot(rad_max, lums, 'r-', alpha=0.8, lw=2.0)\n",
    "ax.plot(rad_max, lums_spec, 'b-', alpha=0.8)\n",
    "tw.plot(rad_max, effs, 'r--', alpha=0.8)\n",
    "# tw.plot(rad_max, np.minimum(10*fedds, 0.1), color='0.5', ls='--', alpha=0.5)\n",
    "\n",
    "plt.show()\n",
    "\n",
    "fname = 'spec-eff_thin_rmax'\n",
    "fname = os.path.join(PATH_OUTPUT, fname)\n",
    "fig.savefig(fname + '.pdf')\n",
    "print(\"Saved to '{}'\".format(fname))"
   ]
  },
  {
   "cell_type": "code",
   "execution_count": null,
   "metadata": {
    "ExecuteTime": {
     "end_time": "2018-03-29T21:12:28.970986Z",
     "start_time": "2018-03-29T21:12:24.754Z"
    }
   },
   "outputs": [],
   "source": [
    "_MASS = 1e7 * MSOL\n",
    "_FEDD = 1e-1\n",
    "VAR_LABEL = \"$\\log(R_\\mathrm{max}/R_s)$\"\n",
    "BAND = \"v\"\n",
    "RAD_MAX = 1e3\n",
    "\n",
    "fig, axes = plt.subplots(figsize=[12, 5], ncols=2)\n",
    "plt.subplots_adjust(wspace=0.55, left=0.08, right=0.92, top=0.96)\n",
    "\n",
    "for ax in axes:\n",
    "    ax.set(xscale='log', yscale='log')\n",
    "    ax.grid(True, which='major', axis='both', c='0.5', alpha=0.5)\n",
    "\n",
    "\n",
    "ax = axes[0]\n",
    "ax.set(xlabel='Frequency [Hz]', # xlim=[1e5, 1e22], \n",
    "       ylabel='$\\\\nu \\, F_\\\\nu [\\mathrm{erg \\,\\, s}^{-1}]$')\n",
    "tw = ax.twinx(); tw.set(yscale='log', ylabel='Cumulative Luminosity $[\\mathrm{erg \\,\\, s}^{-1}]$')\n",
    "\n",
    "# fedds = np.logspace(-6, 0, 7)[::-1]\n",
    "rad_max = np.logspace(1, 5, 8)\n",
    "lums = np.zeros_like(rad_max)\n",
    "lums_spec = np.zeros_like(rad_max)\n",
    "\n",
    "cmap = mpl.cm.get_cmap('gist_heat_r')\n",
    "colors = [cmap(xx) for xx in np.linspace(0.1, 0.9, rad_max.size)]\n",
    "ymax = 0.0\n",
    "\n",
    "for ii, rm in enumerate(rad_max):\n",
    "    label = '${:.1f}$'.format(np.log10(rm))\n",
    "    cc = colors[ii]\n",
    "    kw = dict(color=cc, lw=2.0, label=label)\n",
    "\n",
    "    _thin = bhem.disks.Thin(_MASS, fedd=_FEDD, rmax=rm, nrad=NRAD)\n",
    "    bb_lum = _thin.blackbody_spectral_luminosity(freqs)\n",
    "    lum = bb_lum\n",
    "    \n",
    "    ax.plot(freqs, freqs*lum, ls='--', alpha=0.5, **kw)\n",
    "    ymax = np.maximum(np.max(freqs*lum), ymax)\n",
    "    \n",
    "    _slum = bhem.utils.log_interp1d(freqs, lum*freqs)(BANDS[BAND].freq)\n",
    "    lums_spec[ii] = _slum\n",
    "    \n",
    "    lum_mid = bhem.utils.log_midpoints(lum)\n",
    "    freqs_mid = bhem.utils.log_midpoints(freqs)\n",
    "    df = np.diff(freqs)\n",
    "    cumlum = np.cumsum(df * lum_mid)\n",
    "    lums[ii] = cumlum[-1]\n",
    "    tw.plot(freqs_mid, cumlum, alpha=0.8, **kw)    \n",
    "    \n",
    "tw.set_ylim([1e32, 1e50])\n",
    "ax.set_ylim([1e30, 3*ymax])\n",
    "ax.text(0.02, 0.98, \"$M = {:.1e} \\,\\, M_\\odot$\".format(_MASS/MSOL), transform=ax.transAxes,\n",
    "         ha='left', va='top')\n",
    "    \n",
    "for nn, band in bhem.constants.BANDS.items():\n",
    "    ax.axvline(band.freq, color=band.color, lw=1.0, alpha=0.5)\n",
    "\n",
    "ax.legend(title=VAR_LABEL, fontsize=12, loc='center left')\n",
    "\n",
    "\n",
    "ax = axes[1]\n",
    "ax.set(xlabel=VAR_LABEL, \n",
    "       ylabel='$L_\\mathrm{bol} [\\mathrm{erg \\,\\, s}^{-1}]$')\n",
    "tw = ax.twinx(); tw.set(yscale='log', ylabel='Efficiency')\n",
    "\n",
    "mdot_edd = bhem.basics.eddington_accretion(_MASS)\n",
    "effs = lums/(mdot_edd * _FEDD * SPLC**2)\n",
    "\n",
    "ax.plot(rad_max, lums, 'r-', alpha=0.8, lw=2.0)\n",
    "ax.plot(rad_max, lums_spec, 'b-', alpha=0.8)\n",
    "tw.plot(rad_max, effs, 'r--', alpha=0.8)\n",
    "# tw.plot(rad_max, np.minimum(10*fedds, 0.1), color='0.5', ls='--', alpha=0.5)\n",
    "\n",
    "plt.show()\n",
    "\n",
    "fname = 'spec-eff_thin_rmax'\n",
    "fname = os.path.join(PATH_OUTPUT, fname)\n",
    "fig.savefig(fname + '.pdf')\n",
    "print(\"Saved to '{}'\".format(fname))"
   ]
  }
 ],
 "metadata": {
  "kernelspec": {
   "display_name": "Python [default]",
   "language": "python",
   "name": "python3"
  },
  "language_info": {
   "codemirror_mode": {
    "name": "ipython",
    "version": 3
   },
   "file_extension": ".py",
   "mimetype": "text/x-python",
   "name": "python",
   "nbconvert_exporter": "python",
   "pygments_lexer": "ipython3",
   "version": "3.5.5"
  },
  "toc": {
   "nav_menu": {},
   "number_sections": true,
   "sideBar": true,
   "skip_h1_title": false,
   "toc_cell": false,
   "toc_position": {},
   "toc_section_display": "block",
   "toc_window_display": true
  }
 },
 "nbformat": 4,
 "nbformat_minor": 2
}
